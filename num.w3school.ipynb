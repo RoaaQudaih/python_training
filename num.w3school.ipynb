{
 "cells": [
  {
   "cell_type": "code",
   "execution_count": 14,
   "id": "44d4202b",
   "metadata": {},
   "outputs": [
    {
     "name": "stdout",
     "output_type": "stream",
     "text": [
      "1\n",
      "2\n",
      "3\n",
      "4\n",
      "5\n",
      "6\n",
      "2\n",
      "3\n",
      "4\n",
      "5\n",
      "6\n",
      "8\n"
     ]
    }
   ],
   "source": [
    "import numpy as np\n",
    "arr=np.array([[1,2,3,4,5,6],[2,3,4,5,6,8]])\n",
    "i=0\n",
    "j=0\n",
    "for i in np.nditer(arr):\n",
    "    print(i)"
   ]
  },
  {
   "cell_type": "code",
   "execution_count": 25,
   "id": "db60ad17",
   "metadata": {},
   "outputs": [
    {
     "name": "stdout",
     "output_type": "stream",
     "text": [
      "[ 4 56  4  6  0  4]\n"
     ]
    }
   ],
   "source": [
    "import numpy as np\n",
    "f=[]\n",
    "arr = np.array([4,56,4,6,7,9,0,5,4])\n",
    "for i in arr:\n",
    "    if (i%2==0):\n",
    "        f.append(True)\n",
    "    else:\n",
    "        f.append(False)\n",
    "arr1=arr[f]\n",
    "print(arr1)\n"
   ]
  },
  {
   "cell_type": "code",
   "execution_count": null,
   "id": "d464d13f",
   "metadata": {},
   "outputs": [],
   "source": []
  }
 ],
 "metadata": {
  "kernelspec": {
   "display_name": "Python 3 (ipykernel)",
   "language": "python",
   "name": "python3"
  },
  "language_info": {
   "codemirror_mode": {
    "name": "ipython",
    "version": 3
   },
   "file_extension": ".py",
   "mimetype": "text/x-python",
   "name": "python",
   "nbconvert_exporter": "python",
   "pygments_lexer": "ipython3",
   "version": "3.9.7"
  }
 },
 "nbformat": 4,
 "nbformat_minor": 5
}
