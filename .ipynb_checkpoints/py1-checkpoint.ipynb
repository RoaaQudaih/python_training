{
 "cells": [
  {
   "cell_type": "code",
   "execution_count": 8,
   "id": "3eb0d896",
   "metadata": {},
   "outputs": [
    {
     "data": {
      "text/plain": [
       "'greater'"
      ]
     },
     "execution_count": 8,
     "metadata": {},
     "output_type": "execute_result"
    }
   ],
   "source": [
    "g=lambda x,y:\"greater\" if (x+y)>10 else \"leser\"\n",
    "g(11,4)"
   ]
  },
  {
   "cell_type": "code",
   "execution_count": 10,
   "id": "ee93259f",
   "metadata": {},
   "outputs": [
    {
     "data": {
      "text/plain": [
       "'odd'"
      ]
     },
     "execution_count": 10,
     "metadata": {},
     "output_type": "execute_result"
    }
   ],
   "source": [
    "fun=lambda a:\"odd\" if a%2>0 else \"even\"\n",
    "fun(3)"
   ]
  },
  {
   "cell_type": "markdown",
   "id": "2e9eb688",
   "metadata": {},
   "source": [
    "mylist=[20,21,22,23]\n",
    "mylist.append(24)\n",
    "mylist"
   ]
  },
  {
   "cell_type": "code",
   "execution_count": 2,
   "id": "795f443e",
   "metadata": {},
   "outputs": [],
   "source": [
    "#the seconed thing"
   ]
  },
  {
   "cell_type": "markdown",
   "id": "48fce18c",
   "metadata": {},
   "source": [
    "# first prog\n"
   ]
  },
  {
   "cell_type": "code",
   "execution_count": 3,
   "id": "292f6337",
   "metadata": {},
   "outputs": [
    {
     "name": "stdout",
     "output_type": "stream",
     "text": [
      "hello gyes\n"
     ]
    }
   ],
   "source": [
    "print (\"hello gyes\")"
   ]
  },
  {
   "cell_type": "code",
   "execution_count": null,
   "id": "86c079c4",
   "metadata": {},
   "outputs": [],
   "source": [
    "# gdhjkkkkkkkkkkk\n",
    "# dssdddddddddddd\n",
    "# essssssssssssss s"
   ]
  },
  {
   "cell_type": "code",
   "execution_count": 4,
   "id": "4c8902a3",
   "metadata": {},
   "outputs": [
    {
     "data": {
      "text/plain": [
       "0.8333333333333334"
      ]
     },
     "execution_count": 4,
     "metadata": {},
     "output_type": "execute_result"
    }
   ],
   "source": [
    "5/6\n"
   ]
  },
  {
   "cell_type": "code",
   "execution_count": 7,
   "id": "915334e1",
   "metadata": {},
   "outputs": [
    {
     "data": {
      "text/plain": [
       "5"
      ]
     },
     "execution_count": 7,
     "metadata": {},
     "output_type": "execute_result"
    }
   ],
   "source": [
    "var=5\n",
    "var"
   ]
  },
  {
   "cell_type": "code",
   "execution_count": 8,
   "id": "d3951e05",
   "metadata": {},
   "outputs": [
    {
     "data": {
      "text/plain": [
       "13"
      ]
     },
     "execution_count": 8,
     "metadata": {},
     "output_type": "execute_result"
    }
   ],
   "source": [
    "x=4\n",
    "y=9\n",
    "x+y"
   ]
  },
  {
   "cell_type": "code",
   "execution_count": 9,
   "id": "0e5d3d54",
   "metadata": {},
   "outputs": [
    {
     "data": {
      "text/plain": [
       "36"
      ]
     },
     "execution_count": 9,
     "metadata": {},
     "output_type": "execute_result"
    }
   ],
   "source": [
    "x*y"
   ]
  },
  {
   "cell_type": "code",
   "execution_count": 12,
   "id": "b3e20198",
   "metadata": {},
   "outputs": [
    {
     "data": {
      "text/plain": [
       "tuple"
      ]
     },
     "execution_count": 12,
     "metadata": {},
     "output_type": "execute_result"
    }
   ],
   "source": [
    "x=(1,2,True)\n",
    "type(x)"
   ]
  },
  {
   "cell_type": "code",
   "execution_count": 13,
   "id": "91b29c0f",
   "metadata": {},
   "outputs": [
    {
     "name": "stdout",
     "output_type": "stream",
     "text": [
      "enter your name Roa\n"
     ]
    },
    {
     "data": {
      "text/plain": [
       "'Roa'"
      ]
     },
     "execution_count": 13,
     "metadata": {},
     "output_type": "execute_result"
    }
   ],
   "source": [
    "input(\"enter your name \")"
   ]
  },
  {
   "cell_type": "code",
   "execution_count": 15,
   "id": "512dec18",
   "metadata": {},
   "outputs": [
    {
     "name": "stdout",
     "output_type": "stream",
     "text": [
      "i take 4 from 5\n"
     ]
    }
   ],
   "source": [
    "x=4\n",
    "y=5\n",
    "print (\"i take {x} from {y}\".format(x=x,y=y))"
   ]
  },
  {
   "cell_type": "code",
   "execution_count": 18,
   "id": "b1160098",
   "metadata": {},
   "outputs": [
    {
     "name": "stdout",
     "output_type": "stream",
     "text": [
      "i take 2 from 5\n"
     ]
    }
   ],
   "source": [
    "print (\"i take {0} from {1}\".format(2,5))"
   ]
  },
  {
   "cell_type": "code",
   "execution_count": 2,
   "id": "05dc21f1",
   "metadata": {},
   "outputs": [
    {
     "name": "stdout",
     "output_type": "stream",
     "text": [
      "0\n",
      "1\n",
      "2\n",
      "3\n",
      "4\n"
     ]
    }
   ],
   "source": [
    "for i in range (5):\n",
    "    print(i)\n"
   ]
  },
  {
   "cell_type": "code",
   "execution_count": 1,
   "id": "decc3073",
   "metadata": {},
   "outputs": [
    {
     "name": "stdout",
     "output_type": "stream",
     "text": [
      "{'list1': [1, 2, 3, 4, 5], 'list2': [6, 7, 8, 9, 0]}\n"
     ]
    }
   ],
   "source": [
    "l={\"list1\":[1,2,3,4,5],\"list2\":[6,7,8,9,0]}\n",
    "print(l)"
   ]
  },
  {
   "cell_type": "code",
   "execution_count": 3,
   "id": "4a475fa0",
   "metadata": {},
   "outputs": [
    {
     "name": "stdout",
     "output_type": "stream",
     "text": [
      "list1 [1, 2, 3, 4, 5]\n",
      "list2 [6, 7, 8, 9, 0]\n"
     ]
    }
   ],
   "source": [
    "for i in l:\n",
    "    print(i,l[i])"
   ]
  },
  {
   "cell_type": "code",
   "execution_count": 4,
   "id": "35d8ef89",
   "metadata": {},
   "outputs": [
    {
     "name": "stdout",
     "output_type": "stream",
     "text": [
      "9\n"
     ]
    }
   ],
   "source": [
    "y=lambda x:x*x\n",
    "print(y(3))"
   ]
  },
  {
   "cell_type": "code",
   "execution_count": 11,
   "id": "a5aa5929",
   "metadata": {},
   "outputs": [
    {
     "data": {
      "text/plain": [
       "[1, 2, 3, 4, 4, 5, 6, 7, 7, 9]"
      ]
     },
     "execution_count": 11,
     "metadata": {},
     "output_type": "execute_result"
    }
   ],
   "source": [
    "l1=[1,2,3,4]\n",
    "l2=[4,5,6,7,7,9]\n",
    "l1+l2"
   ]
  },
  {
   "cell_type": "code",
   "execution_count": 3,
   "id": "4b317e24",
   "metadata": {},
   "outputs": [
    {
     "ename": "SyntaxError",
     "evalue": "invalid syntax (2082182528.py, line 2)",
     "output_type": "error",
     "traceback": [
      "\u001b[1;36m  Cell \u001b[1;32mIn [3], line 2\u001b[1;36m\u001b[0m\n\u001b[1;33m    print (`x`)\u001b[0m\n\u001b[1;37m           ^\u001b[0m\n\u001b[1;31mSyntaxError\u001b[0m\u001b[1;31m:\u001b[0m invalid syntax\n"
     ]
    }
   ],
   "source": [
    "x=5\n",
    "print (`x`)"
   ]
  },
  {
   "cell_type": "code",
   "execution_count": null,
   "id": "4dce467d",
   "metadata": {},
   "outputs": [],
   "source": []
  }
 ],
 "metadata": {
  "kernelspec": {
   "display_name": "Python 3 (ipykernel)",
   "language": "python",
   "name": "python3"
  },
  "language_info": {
   "codemirror_mode": {
    "name": "ipython",
    "version": 3
   },
   "file_extension": ".py",
   "mimetype": "text/x-python",
   "name": "python",
   "nbconvert_exporter": "python",
   "pygments_lexer": "ipython3",
   "version": "3.9.7"
  }
 },
 "nbformat": 4,
 "nbformat_minor": 5
}
