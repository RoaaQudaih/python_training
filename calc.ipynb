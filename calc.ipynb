{
 "cells": [
  {
   "cell_type": "code",
   "execution_count": 4,
   "id": "3d29d4fe",
   "metadata": {},
   "outputs": [
    {
     "name": "stdout",
     "output_type": "stream",
     "text": [
      "enter the first number5\n",
      "enter the seconed number8\n",
      "enter the operator-\n",
      "-3\n"
     ]
    }
   ],
   "source": [
    "x=int (input (\"enter the first number\"))\n",
    "y=int (input (\"enter the seconed number\"))\n",
    "z=input(\"enter the operator\")\n",
    "if(z=='+'):\n",
    "    print (x+y)\n",
    "elif (z=='-'):\n",
    "    print(x-y)\n",
    "elif(z=='*'):\n",
    "    print (x*y)\n",
    "else:\n",
    "    print (x/y)"
   ]
  },
  {
   "cell_type": "code",
   "execution_count": 17,
   "id": "9b3ee66a",
   "metadata": {},
   "outputs": [
    {
     "data": {
      "text/plain": [
       "[2, 3, 4]"
      ]
     },
     "execution_count": 17,
     "metadata": {},
     "output_type": "execute_result"
    }
   ],
   "source": [
    "x=[2,3,4,3,2,4]\n",
    "x[4:1:-1]"
   ]
  }
 ],
 "metadata": {
  "kernelspec": {
   "display_name": "Python 3 (ipykernel)",
   "language": "python",
   "name": "python3"
  },
  "language_info": {
   "codemirror_mode": {
    "name": "ipython",
    "version": 3
   },
   "file_extension": ".py",
   "mimetype": "text/x-python",
   "name": "python",
   "nbconvert_exporter": "python",
   "pygments_lexer": "ipython3",
   "version": "3.9.7"
  }
 },
 "nbformat": 4,
 "nbformat_minor": 5
}
