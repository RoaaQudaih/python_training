{
 "cells": [
  {
   "cell_type": "code",
   "execution_count": 3,
   "id": "fe90520d",
   "metadata": {},
   "outputs": [
    {
     "name": "stdout",
     "output_type": "stream",
     "text": [
      "<class 'numpy.ndarray'>\n"
     ]
    }
   ],
   "source": [
    "import numpy as np\n",
    "import time\n",
    "list=[1,2,3,4]\n",
    "list1=[5,6,7,8]\n",
    "arr1=np.array(list)\n",
    "arr2=np.array(list1)\n",
    "arr1+arr2\n",
    "print(type(arr1))"
   ]
  },
  {
   "cell_type": "code",
   "execution_count": 25,
   "id": "bac10aa1",
   "metadata": {},
   "outputs": [
    {
     "name": "stdout",
     "output_type": "stream",
     "text": [
      "3\n",
      "(2, 2, 2)\n",
      "8\n",
      "8\n",
      "[1 2 3 4 5 6 7 8]\n"
     ]
    }
   ],
   "source": [
    "arr3=np.array([[[1,2],[3,4]],[[5,6],[7,8]]])\n",
    "print(arr3.ndim)\n",
    "print(arr3.shape)\n",
    "print(arr3.size)\n",
    "print(arr3[1,1,1])\n",
    "print(arr3.ravel())"
   ]
  },
  {
   "cell_type": "code",
   "execution_count": 14,
   "id": "8d606c4a",
   "metadata": {},
   "outputs": [
    {
     "name": "stdout",
     "output_type": "stream",
     "text": [
      "1948119558448\n",
      "1948119558480\n",
      "1948470231216\n",
      "1948470231216\n"
     ]
    }
   ],
   "source": [
    "print(id(list[0]))\n",
    "print(id(list[1]))\n",
    "print(id(arr1[0]))\n",
    "print(id(arr1[1]))"
   ]
  },
  {
   "cell_type": "code",
   "execution_count": 16,
   "id": "3c24a966",
   "metadata": {},
   "outputs": [
    {
     "name": "stdout",
     "output_type": "stream",
     "text": [
      "6\n",
      "8\n",
      "10\n",
      "12\n",
      "3.075599670410156e-05\n"
     ]
    }
   ],
   "source": [
    "import time\n",
    "for n1,n2 in zip(list,list1):\n",
    "    print(n1+n2)\n",
    "list3=time.time()\n",
    "print(time.time()-list3)"
   ]
  },
  {
   "cell_type": "code",
   "execution_count": 21,
   "id": "b168d918",
   "metadata": {},
   "outputs": [
    {
     "name": "stdout",
     "output_type": "stream",
     "text": [
      "[    0     2     4 ... 29994 29996 29998]\n",
      "0.0\n"
     ]
    }
   ],
   "source": [
    "arr1=np.arange(15000)\n",
    "arr2=np.arange(15000)\n",
    "arr6=arr1+arr2\n",
    "print(arr6)\n",
    "arr5=time.time()\n",
    "print(time.time()-arr5)"
   ]
  },
  {
   "cell_type": "code",
   "execution_count": 22,
   "id": "fab0054c",
   "metadata": {},
   "outputs": [
    {
     "name": "stdout",
     "output_type": "stream",
     "text": [
      "<U14\n"
     ]
    }
   ],
   "source": [
    "arr7=np.array([\"ji\",\"dgdhhhhhhhhhhh\",4])\n",
    "print(arr7.dtype)"
   ]
  },
  {
   "cell_type": "code",
   "execution_count": null,
   "id": "3d84b35a",
   "metadata": {},
   "outputs": [],
   "source": []
  }
 ],
 "metadata": {
  "kernelspec": {
   "display_name": "Python 3 (ipykernel)",
   "language": "python",
   "name": "python3"
  },
  "language_info": {
   "codemirror_mode": {
    "name": "ipython",
    "version": 3
   },
   "file_extension": ".py",
   "mimetype": "text/x-python",
   "name": "python",
   "nbconvert_exporter": "python",
   "pygments_lexer": "ipython3",
   "version": "3.9.7"
  }
 },
 "nbformat": 4,
 "nbformat_minor": 5
}
