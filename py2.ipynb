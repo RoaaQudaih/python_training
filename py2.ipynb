{
 "cells": [
  {
   "cell_type": "code",
   "execution_count": 6,
   "id": "b2abcda4",
   "metadata": {
    "scrolled": true
   },
   "outputs": [
    {
     "name": "stdout",
     "output_type": "stream",
     "text": [
      "(1, 2, 3, 4, 'helo')\n"
     ]
    }
   ],
   "source": [
    "l=(1,2,3,4,\"helo\")\n",
    "print(l)"
   ]
  },
  {
   "cell_type": "code",
   "execution_count": 10,
   "id": "8bb40ceb",
   "metadata": {},
   "outputs": [
    {
     "name": "stdout",
     "output_type": "stream",
     "text": [
      "2\n"
     ]
    }
   ],
   "source": [
    "def fib (x):\n",
    "    if (x==1):\n",
    "        return 0\n",
    "    elif (x==2):\n",
    "        return 1\n",
    "    else:\n",
    "        return (fib(x-1)+fib(x-2))\n",
    "h=fib(4)\n",
    "print(h)"
   ]
  },
  {
   "cell_type": "code",
   "execution_count": 12,
   "id": "0ac27796",
   "metadata": {},
   "outputs": [
    {
     "name": "stdout",
     "output_type": "stream",
     "text": [
      "[0, 1, 1, 2]\n"
     ]
    }
   ],
   "source": [
    "x=5\n",
    "l=[]\n",
    "for i in range(1,x):\n",
    "    l.append(fib(i))\n",
    "print(l)    "
   ]
  },
  {
   "cell_type": "code",
   "execution_count": 13,
   "id": "38a1f59a",
   "metadata": {},
   "outputs": [
    {
     "name": "stdout",
     "output_type": "stream",
     "text": [
      "[1, 3, 4, 'rr']\n"
     ]
    }
   ],
   "source": [
    "f=[1,3,4,\"rr\"]\n",
    "print (f)"
   ]
  },
  {
   "cell_type": "code",
   "execution_count": 17,
   "id": "8261ac2c",
   "metadata": {},
   "outputs": [
    {
     "name": "stdout",
     "output_type": "stream",
     "text": [
      "dict_keys(['name', 'age'])\n"
     ]
    }
   ],
   "source": [
    "f={\"name\":\"roaa\",\"age\":21}\n",
    "print(f.keys())"
   ]
  },
  {
   "cell_type": "code",
   "execution_count": null,
   "id": "e596891e",
   "metadata": {},
   "outputs": [],
   "source": []
  }
 ],
 "metadata": {
  "kernelspec": {
   "display_name": "Python 3 (ipykernel)",
   "language": "python",
   "name": "python3"
  },
  "language_info": {
   "codemirror_mode": {
    "name": "ipython",
    "version": 3
   },
   "file_extension": ".py",
   "mimetype": "text/x-python",
   "name": "python",
   "nbconvert_exporter": "python",
   "pygments_lexer": "ipython3",
   "version": "3.9.7"
  }
 },
 "nbformat": 4,
 "nbformat_minor": 5
}
